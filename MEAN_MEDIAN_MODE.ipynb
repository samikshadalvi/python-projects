{
  "nbformat": 4,
  "nbformat_minor": 0,
  "metadata": {
    "colab": {
      "provenance": [],
      "authorship_tag": "ABX9TyMmQwkB4s3x3BjaI6iia6mh",
      "include_colab_link": true
    },
    "kernelspec": {
      "name": "python3",
      "display_name": "Python 3"
    },
    "language_info": {
      "name": "python"
    }
  },
  "cells": [
    {
      "cell_type": "markdown",
      "metadata": {
        "id": "view-in-github",
        "colab_type": "text"
      },
      "source": [
        "<a href=\"https://colab.research.google.com/github/samikshadalvi/python-projects/blob/main/MEAN_MEDIAN_MODE.ipynb\" target=\"_parent\"><img src=\"https://colab.research.google.com/assets/colab-badge.svg\" alt=\"Open In Colab\"/></a>"
      ]
    },
    {
      "cell_type": "markdown",
      "source": [
        "**MEAN, MEDIAN, MODE IN PYTHON WITHOUT USING PYTHON LIBRARIES.**\n"
      ],
      "metadata": {
        "id": "dAgKrh0X8g3r"
      }
    },
    {
      "cell_type": "markdown",
      "source": [
        "MEAN : Mean is also known as average. Which is basically addition of all the samples present in the dataset divide by the total number of samples present 9in the data set."
      ],
      "metadata": {
        "id": "hcvGhRZR9DLt"
      }
    },
    {
      "cell_type": "code",
      "source": [
        "#MEAN\n",
        "list = [10, 20, 30, 40, 40, 40, 50, 20, 90]\n",
        "mean = sum(list) / len(list)\n",
        "print(mean)\n"
      ],
      "metadata": {
        "colab": {
          "base_uri": "https://localhost:8080/"
        },
        "id": "Q--NDNpe-MKr",
        "outputId": "6e80f4ea-8054-45c7-990f-68cd36db4dc9"
      },
      "execution_count": 1,
      "outputs": [
        {
          "output_type": "stream",
          "name": "stdout",
          "text": [
            "37.77777777777778\n"
          ]
        }
      ]
    },
    {
      "cell_type": "markdown",
      "source": [
        "MEDIAN : Median is defined as the a value present in the middle of the series."
      ],
      "metadata": {
        "id": "9suPOBUO_IJX"
      }
    },
    {
      "cell_type": "code",
      "source": [
        "#MEDIAN\n",
        "list = [10, 20, 30, 40, 40, 40, 50, 20, 90]\n",
        "list.sort()\n",
        "if len(list) % 2 == 0:\n",
        "    m1 = list[len(list)//2]\n",
        "    m2 = list[len(list)//2 - 1]\n",
        "    median = (m1 + m2)/2\n",
        "else:\n",
        "    median = list[len(list)//2]\n",
        "print(median)\n"
      ],
      "metadata": {
        "colab": {
          "base_uri": "https://localhost:8080/"
        },
        "id": "Udm1MN6u_kt7",
        "outputId": "f8eee2ef-072a-4695-d011-d1e839a29476"
      },
      "execution_count": 2,
      "outputs": [
        {
          "output_type": "stream",
          "name": "stdout",
          "text": [
            "40\n"
          ]
        }
      ]
    },
    {
      "cell_type": "markdown",
      "source": [
        "MODE : The modal value of a set of data is the most frequently occurring value."
      ],
      "metadata": {
        "id": "_GUdgR68A73b"
      }
    },
    {
      "cell_type": "code",
      "source": [
        "list1 = [12, 16, 20, 20, 12, 30, 25, 23, 24, 20]\n",
        "frequency = {}\n",
        "for i in list1:\n",
        "    frequency.setdefault(i, 0)\n",
        "    frequency[i]+=1\n",
        "\n",
        "frequent = max(frequency.values())\n",
        "for i, j in frequency.items():\n",
        "    if j == frequent:\n",
        "        mode = i\n",
        "print(mode)"
      ],
      "metadata": {
        "colab": {
          "base_uri": "https://localhost:8080/"
        },
        "id": "TwqHw1N0BqEX",
        "outputId": "d8cb439f-8970-4514-c165-93bde8e95aec"
      },
      "execution_count": 3,
      "outputs": [
        {
          "output_type": "stream",
          "name": "stdout",
          "text": [
            "20\n"
          ]
        }
      ]
    }
  ]
}